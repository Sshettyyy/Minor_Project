{
  "nbformat": 4,
  "nbformat_minor": 0,
  "metadata": {
    "colab": {
      "provenance": [],
      "include_colab_link": true
    },
    "kernelspec": {
      "name": "python3",
      "display_name": "Python 3"
    },
    "language_info": {
      "name": "python"
    }
  },
  "cells": [
    {
      "cell_type": "markdown",
      "metadata": {
        "id": "view-in-github",
        "colab_type": "text"
      },
      "source": [
        "<a href=\"https://colab.research.google.com/github/Sshettyyy/Minor_Project/blob/main/Suhas1.ipynb\" target=\"_parent\"><img src=\"https://colab.research.google.com/assets/colab-badge.svg\" alt=\"Open In Colab\"/></a>"
      ]
    },
    {
      "cell_type": "code",
      "execution_count": 1,
      "metadata": {
        "id": "-G-B1Or2gO2I",
        "colab": {
          "base_uri": "https://localhost:8080/",
          "height": 0
        },
        "outputId": "a0a4cd8a-92d7-4d10-c8b4-af8868286621"
      },
      "outputs": [
        {
          "output_type": "stream",
          "name": "stdout",
          "text": [
            "Mounted at /content/gdrive\n"
          ]
        }
      ],
      "source": [
        "from google.colab import drive\n",
        "drive.mount('/content/gdrive')"
      ]
    },
    {
      "cell_type": "code",
      "source": [
        "import os\n",
        "import base64"
      ],
      "metadata": {
        "id": "DI6h0wiwIUeD"
      },
      "execution_count": 2,
      "outputs": []
    },
    {
      "cell_type": "code",
      "source": [
        "pip install pillow"
      ],
      "metadata": {
        "colab": {
          "base_uri": "https://localhost:8080/",
          "height": 0
        },
        "id": "JSZXtVN1grZ1",
        "outputId": "f12189d2-c13e-4722-847e-e99dbda4281e"
      },
      "execution_count": 3,
      "outputs": [
        {
          "output_type": "stream",
          "name": "stdout",
          "text": [
            "Requirement already satisfied: pillow in /usr/local/lib/python3.10/dist-packages (9.4.0)\n"
          ]
        }
      ]
    },
    {
      "cell_type": "code",
      "source": [
        "pip install pycryptodome"
      ],
      "metadata": {
        "colab": {
          "base_uri": "https://localhost:8080/",
          "height": 0
        },
        "id": "W6ux5uPYgrcU",
        "outputId": "0624dc96-f8d6-420b-d1d6-250430e63cd0"
      },
      "execution_count": 4,
      "outputs": [
        {
          "output_type": "stream",
          "name": "stdout",
          "text": [
            "Collecting pycryptodome\n",
            "  Downloading pycryptodome-3.20.0-cp35-abi3-manylinux_2_17_x86_64.manylinux2014_x86_64.whl (2.1 MB)\n",
            "\u001b[2K     \u001b[90m━━━━━━━━━━━━━━━━━━━━━━━━━━━━━━━━━━━━━━━━\u001b[0m \u001b[32m2.1/2.1 MB\u001b[0m \u001b[31m11.0 MB/s\u001b[0m eta \u001b[36m0:00:00\u001b[0m\n",
            "\u001b[?25hInstalling collected packages: pycryptodome\n",
            "Successfully installed pycryptodome-3.20.0\n"
          ]
        }
      ]
    },
    {
      "cell_type": "code",
      "source": [
        "from PIL import Image\n",
        "from Crypto.Cipher import AES\n",
        "from Crypto.Random import get_random_bytes"
      ],
      "metadata": {
        "id": "VqxCsC1Mgre9"
      },
      "execution_count": 5,
      "outputs": []
    },
    {
      "cell_type": "code",
      "source": [
        "def encrypt_aes(message, key):\n",
        "    cipher = AES.new(key, AES.MODE_EAX)\n",
        "    nonce = cipher.nonce\n",
        "    ciphertext, tag = cipher.encrypt_and_digest(message)\n",
        "    return nonce + ciphertext + tag"
      ],
      "metadata": {
        "id": "4aRPzhQPgrhd"
      },
      "execution_count": 6,
      "outputs": []
    },
    {
      "cell_type": "code",
      "source": [
        "def decrypt_aes(encrypted_data, key):\n",
        "    nonce = encrypted_data[:16]\n",
        "    ciphertext = encrypted_data[16:-16]\n",
        "    tag = encrypted_data[-16:]\n",
        "    cipher = AES.new(key, AES.MODE_EAX, nonce=nonce)\n",
        "    decrypted_data = cipher.decrypt_and_verify(ciphertext, tag)\n",
        "    return decrypted_data"
      ],
      "metadata": {
        "id": "Ts3SSN9hgrkP"
      },
      "execution_count": 7,
      "outputs": []
    },
    {
      "cell_type": "code",
      "source": [
        "DELIMITER = \"11111111\"\n",
        "\n",
        "def embed_message(image_path, file_path, secret_message):\n",
        "    img = Image.open(image_path)\n",
        "    width, height = img.size\n",
        "    if len(secret_message) + len(DELIMITER) + os.path.getsize(file_path) * 8 > width * height * 3:\n",
        "        raise ValueError(\"Message is too large to embed in the image.\")\n",
        "\n",
        "    # Embed the secret message\n",
        "    binary_message = ''.join(format(ord(char), '08b') for char in secret_message)\n",
        "    binary_message += DELIMITER\n",
        "    data = img.getdata()\n",
        "    new_data = []\n",
        "    message_index = 0\n",
        "\n",
        "    for pixel in data:\n",
        "        if message_index < len(binary_message):\n",
        "            r, g, b = pixel\n",
        "            r = r & ~1 | int(binary_message[message_index])\n",
        "            message_index += 1\n",
        "            new_data.append((r, g, b))\n",
        "        else:\n",
        "            new_data.append(pixel)\n",
        "\n",
        "    # Save the modified image\n",
        "    new_img = Image.new(img.mode, img.size)\n",
        "    new_img.putdata(new_data)\n",
        "    new_img.save(\"stego_image.png\")\n",
        "    print(\"Message embedded successfully!\")"
      ],
      "metadata": {
        "id": "Cl1Pi-Jsgrm-"
      },
      "execution_count": 8,
      "outputs": []
    },
    {
      "cell_type": "code",
      "source": [
        "DELIMITER = \"11111111\"\n",
        "\n",
        "# Function to retrieve the encoded file path and secret message from the stego image\n",
        "def retrieve_message(stego_image_path):\n",
        "    img = Image.open(stego_image_path)\n",
        "    data = img.getdata()\n",
        "    binary_message = \"\"\n",
        "    delimiter_found = False\n",
        "\n",
        "    for pixel in data:\n",
        "        r, _, _ = pixel\n",
        "        binary_message += str(r & 1)\n",
        "        if binary_message.endswith(DELIMITER):\n",
        "            delimiter_found = True\n",
        "            break\n",
        "\n",
        "    if not delimiter_found:\n",
        "        raise ValueError(\"Delimiter not found in the stego image.\")\n",
        "\n",
        "    # Remove the delimiter and convert binary to text\n",
        "    secret_message = ''.join(chr(int(binary_message[i:i + 8], 2)) for i in range(0, len(binary_message) - len(DELIMITER), 8))\n",
        "\n",
        "    return secret_message.strip()"
      ],
      "metadata": {
        "id": "LC_mYvTZg4P5"
      },
      "execution_count": 9,
      "outputs": []
    },
    {
      "cell_type": "code",
      "source": [
        "if __name__ == \"__main__\":\n",
        "    # Get the secret message from the user\n",
        "    secret_message = input(\"Enter the secret message: \").encode()  # Encode the string into bytes\n",
        "\n",
        "    # AES Encryption\n",
        "    aes_key = get_random_bytes(32)  # 256-bit key\n",
        "    encrypted_data = encrypt_aes(secret_message, aes_key)\n",
        "\n",
        "    # Store the encrypted data in a file\n",
        "    encrypted_file_path = \"encrypted_data.bin\"\n",
        "    with open(encrypted_file_path, \"wb\") as f:\n",
        "        f.write(encrypted_data)\n",
        "\n",
        "    # Encode the file path using Base64\n",
        "    encoded_file_path = base64.urlsafe_b64encode(encrypted_file_path.encode()).decode()\n",
        "\n",
        "    # Embed the file path and secret message in the cover image\n",
        "    cover_image_path = \"/content/gdrive/MyDrive/cc.jpg\"  # Replace with the path to your cover image\n",
        "    embed_message(cover_image_path, encrypted_file_path, encoded_file_path + DELIMITER + secret_message.decode())\n",
        "\n",
        "    # Retrieving the encoded data from the stego image\n",
        "    stego_image_path = \"stego_image.png\"  # Replace with the path to the stego image\n",
        "    extracted_data = retrieve_message(stego_image_path)\n",
        "\n",
        "    # Split the extracted data into the encoded file path and the secret message\n",
        "    extracted_encoded_file_path, extracted_secret_message = extracted_data.split(DELIMITER)\n",
        "\n",
        "    # Decode the file path and secret message from Base64\n",
        "    decoded_file_path = base64.urlsafe_b64decode(extracted_encoded_file_path).decode()\n",
        "\n",
        "    # Check if the file exists before attempting to open it\n",
        "    if os.path.exists(decoded_file_path):\n",
        "        # Decrypt the extracted encrypted data\n",
        "        with open(decoded_file_path, \"rb\") as f:\n",
        "            extracted_encrypted_data = f.read()\n",
        "            decrypted_message = decrypt_aes(extracted_encrypted_data, aes_key)\n",
        "\n",
        "        print(\"Decrypted Message:\", decrypted_message.decode())\n",
        "    else:\n",
        "        print(\"Error: The file does not exist.\")"
      ],
      "metadata": {
        "colab": {
          "base_uri": "https://localhost:8080/",
          "height": 0
        },
        "id": "XqisjeEig4Sf",
        "outputId": "a9d61ea2-0bb2-4b17-de12-b32d162d76e5"
      },
      "execution_count": 10,
      "outputs": [
        {
          "output_type": "stream",
          "name": "stdout",
          "text": [
            "Enter the secret message: hi\n",
            "Message embedded successfully!\n",
            "Decrypted Message: hi\n"
          ]
        }
      ]
    },
    {
      "cell_type": "code",
      "source": [
        "import numpy as np\n",
        "import math\n",
        "from PIL import Image"
      ],
      "metadata": {
        "id": "DS618_oFHoJX"
      },
      "execution_count": 11,
      "outputs": []
    },
    {
      "cell_type": "code",
      "source": [
        "def calculate_mse(original, stego):\n",
        "    mse = np.mean((original - stego)**2)\n",
        "    return mse"
      ],
      "metadata": {
        "id": "VWjzP5dKHoMi"
      },
      "execution_count": 12,
      "outputs": []
    },
    {
      "cell_type": "code",
      "source": [
        "def calculate_psnr(max_pixel_value, mse):\n",
        "    if mse == 0:\n",
        "        return float('inf')  # Perfect match, PSNR is infinity\n",
        "    psnr = 10 * math.log10((max_pixel_value ** 2) / mse)\n",
        "    return psnr"
      ],
      "metadata": {
        "id": "LNctk17MHoPo"
      },
      "execution_count": 13,
      "outputs": []
    },
    {
      "cell_type": "code",
      "source": [
        "# Load cover and stego images\n",
        "cover_image_path = '/content/gdrive/MyDrive/cc.jpg'\n",
        "stego_image_path = '/content/stego_image.png'\n",
        "\n",
        "cover_image = np.array(Image.open(cover_image_path))\n",
        "stego_image = np.array(Image.open(stego_image_path))\n",
        "\n",
        "# Constants\n",
        "MAX_PIXEL_VALUE = 255  # Assuming 8-bit images\n",
        "\n",
        "# Calculate MSE and PSNR\n",
        "mse = calculate_mse(cover_image, stego_image)\n",
        "psnr = calculate_psnr(MAX_PIXEL_VALUE, mse)\n",
        "\n",
        "# Print the results\n",
        "print(f\"MSE: {mse}\")\n",
        "print(f\"PSNR: {psnr}\")"
      ],
      "metadata": {
        "colab": {
          "base_uri": "https://localhost:8080/",
          "height": 0
        },
        "id": "6kuCNLAnHoSa",
        "outputId": "0104fbce-c354-4b4a-f4dc-2597f8f946b2"
      },
      "execution_count": 14,
      "outputs": [
        {
          "output_type": "stream",
          "name": "stdout",
          "text": [
            "MSE: 0.00015159841579655492\n",
            "PSNR: 86.32385697925498\n"
          ]
        }
      ]
    },
    {
      "cell_type": "code",
      "source": [
        "from PIL import Image\n",
        "\n",
        "# Open the image\n",
        "image_path = \"/content/gdrive/MyDrive/cc.jpg\"  # Replace with the actual path to your image\n",
        "image = Image.open(image_path)\n",
        "\n",
        "# Get the dimensions (size) of the image\n",
        "width, height = image.size\n",
        "\n",
        "# Print the dimensions\n",
        "print(\"Image Width:\", width)\n",
        "print(\"Image Height:\", height)\n"
      ],
      "metadata": {
        "colab": {
          "base_uri": "https://localhost:8080/",
          "height": 0
        },
        "id": "6RNRDHepNnJq",
        "outputId": "298ea6bd-33a6-4c51-fb71-6beb990f9614"
      },
      "execution_count": 15,
      "outputs": [
        {
          "output_type": "stream",
          "name": "stdout",
          "text": [
            "Image Width: 678\n",
            "Image Height: 467\n"
          ]
        }
      ]
    }
  ]
}